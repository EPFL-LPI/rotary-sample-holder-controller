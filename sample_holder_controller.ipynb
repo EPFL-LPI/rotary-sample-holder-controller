{
 "cells": [
  {
   "cell_type": "markdown",
   "metadata": {},
   "source": [
    "# Sample Holder Controller\n",
    "Controls an automated sample holder controlled by an arduino."
   ]
  },
  {
   "cell_type": "markdown",
   "metadata": {},
   "source": [
    "## API\n",
    "\n",
    "Utilizes an Arduino Controller for communication. Commands that differ form the standard arduino commands are listed here.\n",
    "\n",
    "**connect():** Connects with the controller and attempts to read the steps per revolution. If the steps per revolution is not read, the default value is used.\n",
    "\n",
    "**is_enabled():** Returns a boolean of whether the program is connected to the controller.\n",
    "\n",
    "**step( num ):** Moves the number of sample steps provided. The motor steps to move per sample step is calculated from the steps per revolution and the number of samples spaces the holder has.\n",
    "\n",
    "**goto( num ):** Moves to the specified sample."
   ]
  },
  {
   "cell_type": "code",
   "execution_count": 1,
   "metadata": {},
   "outputs": [],
   "source": [
    "# import sys\n",
    "# sys.path.insert( 0, '../base-classes/arduino-controller' )"
   ]
  },
  {
   "cell_type": "code",
   "execution_count": 1,
   "metadata": {},
   "outputs": [],
   "source": [
    "import time\n",
    "import math\n",
    "import json\n",
    "import arduino_controller as arduino\n",
    "\n",
    "# from importlib import reload"
   ]
  },
  {
   "cell_type": "code",
   "execution_count": 3,
   "metadata": {},
   "outputs": [],
   "source": [
    "# reload( arduino )"
   ]
  },
  {
   "cell_type": "code",
   "execution_count": 8,
   "metadata": {},
   "outputs": [],
   "source": [
    "class SampleHolderController( arduino.ArduinoController ):\n",
    "    \"\"\"\n",
    "    Represents an automated sample holder controlled by an Arduino\n",
    "    \"\"\"\n",
    "    \n",
    "    def __init__( self, port, samples = 10, spr = 200, baud = 9600, timeout = 10 ):\n",
    "        \"\"\"\n",
    "        :param port: The port for communication.\n",
    "        :param samples: The number of samples spaces in the holder. [Default: 10]\n",
    "        :param spr: The steps per revolution of the motor to use as default.\n",
    "            Upon connection an attempt will be made to query the arduino for this value\n",
    "            which will be used if obtained. [Default: 200]\n",
    "        :param baud: The baud rate for communication. [Default 9600]\n",
    "        :param timeout: Communication timeout in seconds. [Default: 10]\n",
    "        \"\"\"\n",
    "        arduino.ArduinoController.__init__( \n",
    "            self, \n",
    "            port = port, \n",
    "            baud = baud, \n",
    "            timeout = timeout,\n",
    "            termination_char = '\\n'\n",
    "        )\n",
    "        self.samples = samples\n",
    "        self.position = None # current motor position\n",
    "        \n",
    "        self.SPR = None\n",
    "        self.DEFAULT_SPR = spr # steps per revolution       \n",
    "            \n",
    "\n",
    "    @property \n",
    "    def sample( self ):\n",
    "        \"\"\"\n",
    "        Gets the sample number from the position\n",
    "        \"\"\"\n",
    "        if self.position is None:\n",
    "            return None\n",
    "        \n",
    "        s_width = self.SPR/ self.samples\n",
    "        offset = s_width/ 2\n",
    "        sample = ( self.position + offset )/ s_width\n",
    "        return math.floor( sample  )\n",
    "        \n",
    "        \n",
    "    def connect( self ):\n",
    "        \"\"\"\n",
    "        Connects to the controller.\n",
    "        Attempts to obtain the steps per revolution from the controller,\n",
    "            falls back to using the default value.\n",
    "        \n",
    "        :raises: RuntimeError if steps per revolution could not be obtained\n",
    "        \"\"\"\n",
    "        super().connect()\n",
    "        time.sleep( 3 ) # delay to establish connection, in seconds\n",
    "        \n",
    "        try:\n",
    "            self.SPR = self.get_spr()\n",
    "            \n",
    "        except:\n",
    "            # could not connect\n",
    "            self.SPR = self.DEFAULT_SPR\n",
    "            raise RuntimeError( \n",
    "                'Could not get steps per rotation. Using default value of {} instead.'.format( self.DEFAULT_SPR ) \n",
    "            ) \n",
    "   \n",
    "    \n",
    "    def enable( self ):\n",
    "        self.run( 'enable' )\n",
    "        self.position = self.run( 'get_pos' )\n",
    "        \n",
    "        \n",
    "    def home( self ):\n",
    "        self.run( 'home' )\n",
    "        self.position = 0\n",
    "\n",
    "        \n",
    "    def is_enabled( self ):\n",
    "        \"\"\"\n",
    "        Returns whether the motor is enabled or not.\n",
    "        \n",
    "        :returns: True or False\n",
    "        \"\"\"\n",
    "        resp = self.run( 'is_enabled' )\n",
    "        return True if ( resp == '1' ) else False\n",
    "        \n",
    "        \n",
    "    def move( self, steps ):\n",
    "        \"\"\"\n",
    "        Change relative motor position.\n",
    "        \n",
    "        :param num: The number of steps to take.\n",
    "        :raises: RuntimeError if the motor is not enabled.\n",
    "        \"\"\"\n",
    "        if not self.is_enabled():\n",
    "            raise RuntimeError( 'Motor is not enabled.' )\n",
    "            \n",
    "        self.run( 'move', steps )\n",
    "        \n",
    "        # update motor position\n",
    "        self.position = ( self.position + steps )% self.SPR\n",
    "    \n",
    "        \n",
    "    def step( self, num = 1):\n",
    "        \"\"\"\n",
    "        Change relative sample position.\n",
    "        \n",
    "        :param num: The number of samples to move. [Default: 1]\n",
    "        \"\"\"\n",
    "        steps = num*( self.SPR/ self.samples )\n",
    "        self.move( steps )\n",
    "        \n",
    "    \n",
    "    def goto( self, num = 0 ):\n",
    "        \"\"\"\n",
    "        Goes to a specific sample.\n",
    "        \n",
    "        :param num: The sample number to go to. [Default: 0]\n",
    "        :raises: ValueError if an invalid sample number is given.\n",
    "        \"\"\"\n",
    "        if ( num < 0 ) or ( num > self.samples ):\n",
    "            # invalid sample number\n",
    "            raise ValueError( 'Invalid sample number. Must be in range [0, {}].'.format( self.samples ) )\n",
    "\n",
    "        # move as few steps as possible\n",
    "        steps = ( num - self.sample )% self.samples\n",
    "        if ( steps > self.samples/ 2 ):\n",
    "            # move in opposite direction\n",
    "            steps -= self.samples\n",
    "            \n",
    "        self.step( steps )\n",
    "    \n",
    "        \n",
    "    def offset( self, num ):\n",
    "        \"\"\"\n",
    "        Shifts the realtive position. Used to trim the home position.\n",
    "        \n",
    "        :param num: The amount of steps to offset.\n",
    "        \"\"\"\n",
    "        pos = self.position\n",
    "        self.move( num )\n",
    "        super().run( 'offset', -num ) # compensate for movement\n",
    "        \n",
    "        # reset position\n",
    "        self.position = pos"
   ]
  },
  {
   "cell_type": "markdown",
   "metadata": {},
   "source": [
    "# Work"
   ]
  },
  {
   "cell_type": "code",
   "execution_count": 9,
   "metadata": {},
   "outputs": [],
   "source": [
    "# sh = SampleHolderController( 'COM4' )"
   ]
  },
  {
   "cell_type": "code",
   "execution_count": 11,
   "metadata": {
    "scrolled": true
   },
   "outputs": [],
   "source": [
    "# sh.connect()"
   ]
  },
  {
   "cell_type": "code",
   "execution_count": 20,
   "metadata": {},
   "outputs": [],
   "source": [
    "# sh.disconnect()"
   ]
  },
  {
   "cell_type": "code",
   "execution_count": 12,
   "metadata": {
    "scrolled": true
   },
   "outputs": [],
   "source": [
    "# sh.enable()"
   ]
  },
  {
   "cell_type": "code",
   "execution_count": 16,
   "metadata": {},
   "outputs": [],
   "source": [
    "# sh.goto( 5 )"
   ]
  },
  {
   "cell_type": "code",
   "execution_count": 19,
   "metadata": {},
   "outputs": [
    {
     "data": {
      "text/plain": [
       "5"
      ]
     },
     "execution_count": 19,
     "metadata": {},
     "output_type": "execute_result"
    }
   ],
   "source": [
    "# sh.move( 5 )\n",
    "# sh.sample"
   ]
  },
  {
   "cell_type": "code",
   "execution_count": 69,
   "metadata": {},
   "outputs": [
    {
     "data": {
      "text/plain": [
       "5"
      ]
     },
     "execution_count": 69,
     "metadata": {},
     "output_type": "execute_result"
    }
   ],
   "source": [
    "# sh.sample"
   ]
  },
  {
   "cell_type": "code",
   "execution_count": null,
   "metadata": {},
   "outputs": [],
   "source": []
  }
 ],
 "metadata": {
  "kernelspec": {
   "display_name": "Python 3",
   "language": "python",
   "name": "python3"
  },
  "language_info": {
   "codemirror_mode": {
    "name": "ipython",
    "version": 3
   },
   "file_extension": ".py",
   "mimetype": "text/x-python",
   "name": "python",
   "nbconvert_exporter": "python",
   "pygments_lexer": "ipython3",
   "version": "3.7.0"
  }
 },
 "nbformat": 4,
 "nbformat_minor": 2
}
